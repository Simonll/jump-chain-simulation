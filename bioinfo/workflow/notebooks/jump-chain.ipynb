{
 "cells": [
  {
   "cell_type": "code",
   "execution_count": null,
   "id": "07414857-701a-4a59-bbf8-47284e1819a6",
   "metadata": {},
   "outputs": [],
   "source": [
    "!which python"
   ]
  },
  {
   "cell_type": "code",
   "execution_count": null,
   "id": "f2ead361-52fc-4596-ba49-fcdabadc8ff9",
   "metadata": {},
   "outputs": [],
   "source": [
    "%load_ext autoreload\n",
    "%autoreload 2\n",
    "from IPython.core.interactiveshell import InteractiveShell"
   ]
  },
  {
   "cell_type": "code",
   "execution_count": null,
   "id": "a090121f-1ee9-4039-94a7-fcf4afce0ccb",
   "metadata": {},
   "outputs": [],
   "source": [
    "# basic packages\n",
    "import os\n",
    "import re\n",
    "import sys\n",
    "import datetime\n",
    "from typing import List, Dict, Tuple, Optional, Any\n",
    "from itertools import combinations\n",
    "from pathlib import Path\n",
    "import glob\n",
    "#import yaml\n",
    "import tqdm\n",
    "import multiprocessing as mp\n",
    "from itertools import combinations, product"
   ]
  },
  {
   "cell_type": "code",
   "execution_count": null,
   "id": "47c0419b-1ba5-4a25-886d-f009047ad384",
   "metadata": {},
   "outputs": [],
   "source": [
    "# data science\n",
    "import pandas as pd\n",
    "import numpy as np\n",
    "import matplotlib.pyplot as plt"
   ]
  },
  {
   "cell_type": "code",
   "execution_count": null,
   "id": "3749c036-7357-4371-9898-a2b586ef2740",
   "metadata": {},
   "outputs": [],
   "source": [
    "ROOT_dir = Path(os.path.abspath(os.path.join(Path(\"../\")))).__str__()\n",
    "if ROOT_dir not in sys.path:\n",
    "    sys.path.append(ROOT_dir)"
   ]
  },
  {
   "cell_type": "code",
   "execution_count": null,
   "id": "87c5c9fc-07d6-416d-a1a9-4f60c05f3b4f",
   "metadata": {},
   "outputs": [],
   "source": [
    "from scripts.generate_cabc_sup import generate_supplements_CABC"
   ]
  },
  {
   "cell_type": "code",
   "execution_count": null,
   "id": "1db54908-066b-47dd-9c4c-af39a48535fd",
   "metadata": {},
   "outputs": [],
   "source": [
    "input_dir:str = \"/mnt/disk2/sll/forward_sim/run-2021-06-16_11-54/\"\n",
    "pattern:str = \"*-HKY-CABC-LRM-SS_log2-PARAMS_log-TRUE-epanechnikov.knn\""
   ]
  },
  {
   "cell_type": "code",
   "execution_count": null,
   "id": "3757fa12-c8f5-460c-8b8c-462862ddc1e6",
   "metadata": {},
   "outputs": [],
   "source": [
    "generate_supplements_CABC(input_dir=input_dir, pattern=pattern, metadata={}, output=ROOT_dir + \"/reports/tableSup7.csv\")"
   ]
  },
  {
   "cell_type": "code",
   "execution_count": null,
   "id": "49ac866f-6a72-45bd-8b7e-a6a8b70a15c9",
   "metadata": {},
   "outputs": [],
   "source": [
    "from scripts.generate_M0GTR_pb_mpi_sup import generate_supplements_M0GTR_pb_mpi"
   ]
  },
  {
   "cell_type": "code",
   "execution_count": null,
   "id": "2dcba42a-40be-4b0f-8417-4183511fd0a8",
   "metadata": {},
   "outputs": [],
   "source": [
    "input_dir:str = \"/mnt/disk2/sll/forward_sim/step_1_M0MS/\"\n",
    "pattern:str = \"*.chain\""
   ]
  },
  {
   "cell_type": "code",
   "execution_count": null,
   "id": "7e4d4ee8-85a8-498a-9f1b-d99572f67241",
   "metadata": {},
   "outputs": [],
   "source": [
    "generate_supplements_M0GTR_pb_mpi(input_dir=input_dir, pattern=pattern, metadata={}, output=ROOT_dir + \"/reports/tableSup8.csv\")"
   ]
  },
  {
   "cell_type": "code",
   "execution_count": null,
   "id": "d3e7a7d3-3c57-4a9b-9944-e644697319da",
   "metadata": {},
   "outputs": [],
   "source": [
    "# M0HKY\n",
    "files: List[str] = glob.glob(\n",
    "    \"/mnt/disk2/sll/forward_sim/\" + \"run-2021-04-28_22-47/*/M0-HKY\"\n",
    ")\n",
    "files += glob.glob(\n",
    "    \"/mnt/disk2/sll/forward_sim/\" + \"run-2021-07-09_17-26/*/M0-HKY\"\n",
    ")"
   ]
  },
  {
   "cell_type": "code",
   "execution_count": null,
   "id": "838a6538-035a-484a-b7c4-7742e1403629",
   "metadata": {},
   "outputs": [],
   "source": [
    "from scripts.generate_codeml_sup import generate_supplements_M0HKY_codeml"
   ]
  },
  {
   "cell_type": "code",
   "execution_count": null,
   "id": "00488c6a-73b2-4d63-86bc-c3cb133d1344",
   "metadata": {},
   "outputs": [],
   "source": [
    "input_dir:str = \"/mnt/disk2/sll/forward_sim/\" + \"run-2021-04-28_22-47/*/M0-HKY\""
   ]
  },
  {
   "cell_type": "code",
   "execution_count": null,
   "id": "b9366c11-3629-47c9-bf6f-7c8e26fa6d17",
   "metadata": {},
   "outputs": [],
   "source": [
    "generate_supplements_M0HKY_codeml(input_dir=input_dir, metadata={}, output=ROOT_dir + \"/reports/tableSup1.csv\")"
   ]
  },
  {
   "cell_type": "code",
   "execution_count": null,
   "id": "a7720443-3fc7-4a52-9732-f29782e0c96d",
   "metadata": {},
   "outputs": [],
   "source": [
    "# M7HKY\n",
    "files = glob.glob(\n",
    "    \"/mnt/disk2/sll/forward_sim/\" + \"run-2021-04-28_23-10/*/M7-HKY\"\n",
    ")\n",
    "files += glob.glob(\n",
    "    \"/mnt/disk2/sll/forward_sim/\" + \"run-2021-07-09_17-39/*/M7-HKY\"\n",
    ")"
   ]
  },
  {
   "cell_type": "code",
   "execution_count": null,
   "id": "50fe9e0c-ea3f-4b7c-8d57-aaa5250eb2d0",
   "metadata": {},
   "outputs": [],
   "source": [
    "from scripts.generate_codeml_sup import generate_supplements_M7HKY_codeml"
   ]
  },
  {
   "cell_type": "code",
   "execution_count": null,
   "id": "d524afa1-2d4b-4eeb-bde5-4ab922c88bc5",
   "metadata": {},
   "outputs": [],
   "source": [
    "input_dir_M7HKY_codeml:str = \"/mnt/disk2/sll/forward_sim/\" + \"run-2021-04-28_23-10/*/M7-HKY\""
   ]
  },
  {
   "cell_type": "code",
   "execution_count": null,
   "id": "2cf9bdff-3a4b-4659-85ec-6f6572170ace",
   "metadata": {},
   "outputs": [],
   "source": [
    "generate_supplements_M7HKY_codeml(input_dir=input_dir_M7HKY_codeml, metadata={}, output=ROOT_dir + \"/reports/tableSup2.csv\")"
   ]
  },
  {
   "cell_type": "code",
   "execution_count": null,
   "id": "e7ae6315-24d3-4bb6-b9de-59bc46c2b0e5",
   "metadata": {},
   "outputs": [],
   "source": [
    "# M8HKY \n",
    "files = glob.glob(\n",
    "    \"/mnt/disk2/sll/forward_sim/\" + \"run-2021-04-28_23-10/*/M8-HKY\"\n",
    ")\n",
    "files += glob.glob(\n",
    "    \"/mnt/disk2/sll/forward_sim/\" + \"run-2021-07-09_17-39/*/M8-HKY\"\n",
    ")"
   ]
  },
  {
   "cell_type": "code",
   "execution_count": null,
   "id": "782389db-d6cf-4261-946c-d732d76546d3",
   "metadata": {},
   "outputs": [],
   "source": [
    "from scripts.generate_codeml_sup import generate_supplements_M8HKY_codeml"
   ]
  },
  {
   "cell_type": "code",
   "execution_count": null,
   "id": "e981ff1f-637e-4383-83d2-69866b0866e1",
   "metadata": {},
   "outputs": [],
   "source": [
    "input_dir_M8HKY_codeml:str = \"/mnt/disk2/sll/forward_sim/\" + \"run-2021-04-28_23-10/*/M8-HKY\""
   ]
  },
  {
   "cell_type": "code",
   "execution_count": null,
   "id": "dc18133c-d507-4430-9fa5-f0193c011795",
   "metadata": {},
   "outputs": [],
   "source": [
    "generate_supplements_M8HKY_codeml(input_dir=input_dir_M8HKY_codeml, metadata={}, output=ROOT_dir + \"/reports/tableSup3.csv\")"
   ]
  },
  {
   "cell_type": "code",
   "execution_count": null,
   "id": "6fc6b5ff-b579-4a03-87ba-e41edf28bbd5",
   "metadata": {},
   "outputs": [],
   "source": [
    "from scripts.generate_codeml_sup import generate_supplements_M7M8HKY_codeml_LRT"
   ]
  },
  {
   "cell_type": "code",
   "execution_count": null,
   "id": "ac53022a-6d9d-41b1-9ad8-26b538133c78",
   "metadata": {},
   "outputs": [],
   "source": [
    "generate_supplements_M7M8HKY_codeml_LRT(input_dir_M7HKY_codeml=, input_dir_M8HKY_codeml=input_dir_M8HKY_codeml, metadata={}, output=ROOT_dir + \"/reports/tableSup4.csv\""
   ]
  },
  {
   "cell_type": "code",
   "execution_count": null,
   "id": "52548ab7-e47f-4fe2-875e-b949d3611699",
   "metadata": {},
   "outputs": [],
   "source": []
  }
 ],
 "metadata": {
  "kernelspec": {
   "display_name": "Python 3 (ipykernel)",
   "language": "python",
   "name": "python3"
  },
  "language_info": {
   "codemirror_mode": {
    "name": "ipython",
    "version": 3
   },
   "file_extension": ".py",
   "mimetype": "text/x-python",
   "name": "python",
   "nbconvert_exporter": "python",
   "pygments_lexer": "ipython3",
   "version": "3.9.7"
  }
 },
 "nbformat": 4,
 "nbformat_minor": 5
}
